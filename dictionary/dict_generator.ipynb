{
 "cells": [
  {
   "cell_type": "markdown",
   "id": "5e6d1704",
   "metadata": {},
   "source": [
    "# Generating and Approximated Phonetic Dictionary"
   ]
  },
  {
   "cell_type": "code",
   "execution_count": 3,
   "id": "1713318a",
   "metadata": {},
   "outputs": [
    {
     "name": "stdout",
     "output_type": "stream",
     "text": [
      "JSON file created for the CMU Pronouncing Dictionary from the .txt file.\n"
     ]
    }
   ],
   "source": [
    "import json\n",
    "\n",
    "\n",
    "cmu_dict_file = \"./cmudict-0.txt\"  # CMU dictionary .txt file\n",
    "word_data = {}\n",
    "\n",
    "\n",
    "def get_stress(phonemes):\n",
    "    \"\"\" Extracts stress markers from phoneme list. \"\"\"\n",
    "    stress_markers = []\n",
    "    for phoneme in phonemes:\n",
    "        if phoneme[-1].isdigit():\n",
    "            stress_markers.append('U' if phoneme[-1] in '12' else 'I')\n",
    "    return stress_markers\n",
    "\n",
    "def cmu_syllable_approximation(word, phonetic_transcription):\n",
    "    # Split the transcription into phonemes\n",
    "    phonemes = phonetic_transcription.split()\n",
    "    \n",
    "    stress_markers = get_stress(phonemes)\n",
    "\n",
    "    # Heuristic: map the number of vowels in the word to the syllable count\n",
    "    vowels = \"AEIOU\"\n",
    "    vowel_indices = [i for i, char in enumerate(word) if char.upper() in vowels]\n",
    "    split_indices = vowel_indices[:len(stress_markers) - 1]  # Ignore the last vowel for splitting\n",
    "\n",
    "    # Split the word at the chosen indices\n",
    "    splits = [0] + [index + 1 for index in split_indices] + [len(word)]\n",
    "    syllables = [word[splits[i]:splits[i + 1]] for i in range(len(splits) - 1)]\n",
    "\n",
    "    # Create a list of dictionaries for each syllable\n",
    "    syllable_dicts = [{\"syllable\": syllables[i], \"position\": i+1, \"pattern\": stress_markers[i]} \n",
    "                      for i in range(min(len(syllables), len(stress_markers)))]\n",
    "\n",
    "    return syllable_dicts\n",
    "\n",
    "\n",
    "with open(cmu_dict_file, \"r\", encoding=\"ISO-8859-1\") as file:\n",
    "    for line in file:\n",
    "        parts = line.strip().split()\n",
    "        word = parts[0]\n",
    "        transcription = ' '.join(parts[1:])\n",
    "        \n",
    "        \n",
    "        syllable_dicts = cmu_syllable_approximation(word, transcription)\n",
    "\n",
    "        \n",
    "        syllables = \"\".join(get_stress(transcription))\n",
    "        \n",
    "        # shortened key names for smaller file size\n",
    "        word_data[word] = {\n",
    "            \"sc\": len(syllable_dicts),  # sc for syllable_count\n",
    "            \"sp\": syllables,  # sp for syllable_pattern\n",
    "            \"seg\": syllable_dicts  # seg for segments\n",
    "        }\n",
    "\n",
    "\n",
    "output_json_file = \"cmu_en.json\"  \n",
    "with open(output_json_file, \"w\") as json_file:\n",
    "    json.dump(word_data, json_file)\n"
   ]
  },
  {
   "cell_type": "code",
   "execution_count": 2,
   "id": "19bc68cc",
   "metadata": {},
   "outputs": [
    {
     "name": "stdout",
     "output_type": "stream",
     "text": [
      "{'sc': 2, 'sp': 'IU', 'seg': [{'syllable': 'HE', 'position': 1, 'pattern': 'I'}, {'syllable': 'LLO', 'position': 2, 'pattern': 'U'}]}\n"
     ]
    }
   ],
   "source": [
    "import json\n",
    "\n",
    "with open('cmu_en.json', 'r') as f:\n",
    "    data = json.load(f)\n",
    "    print(data['HELLO'])"
   ]
  },
  {
   "cell_type": "code",
   "execution_count": null,
   "id": "42c3647e",
   "metadata": {},
   "outputs": [],
   "source": []
  }
 ],
 "metadata": {
  "kernelspec": {
   "display_name": "Python 3",
   "language": "python",
   "name": "python3"
  },
  "language_info": {
   "codemirror_mode": {
    "name": "ipython",
    "version": 3
   },
   "file_extension": ".py",
   "mimetype": "text/x-python",
   "name": "python",
   "nbconvert_exporter": "python",
   "pygments_lexer": "ipython3",
   "version": "3.9.16"
  }
 },
 "nbformat": 4,
 "nbformat_minor": 5
}
